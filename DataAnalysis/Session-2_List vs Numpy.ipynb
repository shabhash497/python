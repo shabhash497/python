{
 "cells": [
  {
   "cell_type": "code",
   "execution_count": 52,
   "id": "83210c71-e471-460f-9cd6-c29ff51d30fa",
   "metadata": {},
   "outputs": [
    {
     "data": {
      "text/plain": [
       "[11, 22, 33]"
      ]
     },
     "execution_count": 52,
     "metadata": {},
     "output_type": "execute_result"
    }
   ],
   "source": [
    "l1=[1,2,3]\n",
    "l2=[10,20,30]\n",
    "#l3=[11,22,33]\n",
    "l3=[i+j for i,j in zip(l1,l2)]\n",
    "l3"
   ]
  },
  {
   "cell_type": "code",
   "execution_count": 54,
   "id": "73849038-540f-42b1-b248-9284f6e0ec77",
   "metadata": {},
   "outputs": [
    {
     "data": {
      "text/plain": [
       "array([11, 22, 33])"
      ]
     },
     "execution_count": 54,
     "metadata": {},
     "output_type": "execute_result"
    }
   ],
   "source": [
    "import numpy as np\n",
    "arr1= np.array(l1)\n",
    "arr2= np.array(l2)\n",
    "arr1+arr2"
   ]
  },
  {
   "cell_type": "markdown",
   "id": "183c98e1-9787-4b98-9c1d-dcac23c5da9b",
   "metadata": {},
   "source": [
    "- Element wise operations works in Numpy"
   ]
  },
  {
   "cell_type": "markdown",
   "id": "c6c94fec-258f-4802-ae41-a79764316dce",
   "metadata": {},
   "source": [
    "**how to convert array to list**"
   ]
  },
  {
   "cell_type": "code",
   "execution_count": 11,
   "id": "e50bba37-4061-4222-8de1-87dc82f856a2",
   "metadata": {},
   "outputs": [
    {
     "data": {
      "text/plain": [
       "array([1, 2, 3])"
      ]
     },
     "execution_count": 11,
     "metadata": {},
     "output_type": "execute_result"
    }
   ],
   "source": [
    "arr1"
   ]
  },
  {
   "cell_type": "code",
   "execution_count": 13,
   "id": "28fa1c8c-7941-4ab7-b445-5f3e3647a9ee",
   "metadata": {},
   "outputs": [
    {
     "data": {
      "text/plain": [
       "[1, 2, 3]"
      ]
     },
     "execution_count": 13,
     "metadata": {},
     "output_type": "execute_result"
    }
   ],
   "source": [
    "list(arr1) #type casting"
   ]
  },
  {
   "cell_type": "code",
   "execution_count": 15,
   "id": "bd3e275b-d684-442d-b4e5-e9c80f6b24cc",
   "metadata": {},
   "outputs": [
    {
     "data": {
      "text/plain": [
       "[1, 2, 3]"
      ]
     },
     "execution_count": 15,
     "metadata": {},
     "output_type": "execute_result"
    }
   ],
   "source": [
    "arr1.tolist()"
   ]
  },
  {
   "cell_type": "markdown",
   "id": "8e3366d0-bea0-42b9-adcb-ea83825b6b20",
   "metadata": {},
   "source": [
    "**Speed Analysis**"
   ]
  },
  {
   "cell_type": "code",
   "execution_count": null,
   "id": "71412d6b-2303-49e2-8409-5ceced84b77a",
   "metadata": {},
   "outputs": [],
   "source": [
    "# take a two lists of 100 no's\n",
    "# multiply two list\n",
    "#calculate time process\n",
    "\n",
    "\n",
    "# take a two lists of 100 no's\n",
    "# multiply two list\n",
    "#calculate time process"
   ]
  },
  {
   "cell_type": "code",
   "execution_count": 18,
   "id": "bd17ff78-1e02-4e95-a140-b6c44454f962",
   "metadata": {},
   "outputs": [
    {
     "name": "stdout",
     "output_type": "stream",
     "text": [
      "Time taken is : 0.2823364734649658\n"
     ]
    }
   ],
   "source": [
    "import time\n",
    "l1=range(1,1000000)\n",
    "l2=range(1,1000000)\n",
    "start=time.time()\n",
    "[i*j for i,j in zip(l1,l2)]\n",
    "end=time.time()\n",
    "print(f'Time taken is : {end-start}')\n"
   ]
  },
  {
   "cell_type": "code",
   "execution_count": 20,
   "id": "f7faed1b-c756-4397-a990-d4b1d63f2c92",
   "metadata": {},
   "outputs": [
    {
     "data": {
      "text/plain": [
       "range(0, 3)"
      ]
     },
     "execution_count": 20,
     "metadata": {},
     "output_type": "execute_result"
    }
   ],
   "source": [
    "range(3)"
   ]
  },
  {
   "cell_type": "code",
   "execution_count": 24,
   "id": "e9780161-b976-4365-92b8-e97faeea7254",
   "metadata": {},
   "outputs": [
    {
     "data": {
      "text/plain": [
       "[0, 1, 2]"
      ]
     },
     "execution_count": 24,
     "metadata": {},
     "output_type": "execute_result"
    }
   ],
   "source": [
    "list(range(0,3))"
   ]
  },
  {
   "cell_type": "code",
   "execution_count": 30,
   "id": "6dfb3e13-4967-414f-9b59-adf5552892ae",
   "metadata": {},
   "outputs": [
    {
     "data": {
      "text/plain": [
       "array([0, 1, 2])"
      ]
     },
     "execution_count": 30,
     "metadata": {},
     "output_type": "execute_result"
    }
   ],
   "source": [
    "import numpy as np\n",
    "np.arange(3)"
   ]
  },
  {
   "cell_type": "code",
   "execution_count": 36,
   "id": "4f537169-2ee2-434e-af65-c18070a522d3",
   "metadata": {},
   "outputs": [
    {
     "name": "stdout",
     "output_type": "stream",
     "text": [
      "Time taken is : 0.004084587097167969\n"
     ]
    }
   ],
   "source": [
    "import time\n",
    "arr1=np.arange(1000000)\n",
    "arr2=np.arange(1000000)\n",
    "start=time.time()\n",
    "arr3= arr1*arr2\n",
    "end=time.time()\n",
    "print(f'Time taken is : {end-start}')"
   ]
  },
  {
   "cell_type": "code",
   "execution_count": 46,
   "id": "645fb4d6-4205-4313-a26d-9dfc9179b6d7",
   "metadata": {},
   "outputs": [
    {
     "data": {
      "text/plain": [
       "19.166666666666668"
      ]
     },
     "execution_count": 46,
     "metadata": {},
     "output_type": "execute_result"
    }
   ],
   "source": [
    "np.mean([1,2,3,4,5,100])"
   ]
  },
  {
   "cell_type": "code",
   "execution_count": 44,
   "id": "8281aaa6-b06a-4b47-9f77-14ef7d8a8718",
   "metadata": {},
   "outputs": [
    {
     "data": {
      "text/plain": [
       "3.5"
      ]
     },
     "execution_count": 44,
     "metadata": {},
     "output_type": "execute_result"
    }
   ],
   "source": [
    "np.median([1,2,3,4,5,100])"
   ]
  },
  {
   "cell_type": "code",
   "execution_count": 48,
   "id": "ec04a844-de81-4ae4-9866-771a65645198",
   "metadata": {},
   "outputs": [
    {
     "ename": "AttributeError",
     "evalue": "module 'numpy' has no attribute 'mode'",
     "output_type": "error",
     "traceback": [
      "\u001b[1;31m---------------------------------------------------------------------------\u001b[0m",
      "\u001b[1;31mAttributeError\u001b[0m                            Traceback (most recent call last)",
      "Cell \u001b[1;32mIn[48], line 1\u001b[0m\n\u001b[1;32m----> 1\u001b[0m np\u001b[38;5;241m.\u001b[39mmode([\u001b[38;5;241m1\u001b[39m,\u001b[38;5;241m2\u001b[39m,\u001b[38;5;241m3\u001b[39m,\u001b[38;5;241m4\u001b[39m,\u001b[38;5;241m5\u001b[39m,\u001b[38;5;241m100\u001b[39m])\n",
      "File \u001b[1;32m~\\AppData\\Local\\anaconda3\\Lib\\site-packages\\numpy\\__init__.py:333\u001b[0m, in \u001b[0;36m__getattr__\u001b[1;34m(attr)\u001b[0m\n\u001b[0;32m    330\u001b[0m     \u001b[38;5;124m\"\u001b[39m\u001b[38;5;124mRemoved in NumPy 1.25.0\u001b[39m\u001b[38;5;124m\"\u001b[39m\n\u001b[0;32m    331\u001b[0m     \u001b[38;5;28;01mraise\u001b[39;00m \u001b[38;5;167;01mRuntimeError\u001b[39;00m(\u001b[38;5;124m\"\u001b[39m\u001b[38;5;124mTester was removed in NumPy 1.25.\u001b[39m\u001b[38;5;124m\"\u001b[39m)\n\u001b[1;32m--> 333\u001b[0m \u001b[38;5;28;01mraise\u001b[39;00m \u001b[38;5;167;01mAttributeError\u001b[39;00m(\u001b[38;5;124m\"\u001b[39m\u001b[38;5;124mmodule \u001b[39m\u001b[38;5;132;01m{!r}\u001b[39;00m\u001b[38;5;124m has no attribute \u001b[39m\u001b[38;5;124m\"\u001b[39m\n\u001b[0;32m    334\u001b[0m                      \u001b[38;5;124m\"\u001b[39m\u001b[38;5;132;01m{!r}\u001b[39;00m\u001b[38;5;124m\"\u001b[39m\u001b[38;5;241m.\u001b[39mformat(\u001b[38;5;18m__name__\u001b[39m, attr))\n",
      "\u001b[1;31mAttributeError\u001b[0m: module 'numpy' has no attribute 'mode'"
     ]
    }
   ],
   "source": [
    "-min\n",
    "-max\n",
    "-sum\n",
    "-count\n",
    "-mean\n",
    "-median\n",
    "-mode\n",
    "-variance\n",
    "-standard deviation\n",
    "-covariance\n",
    "-correlation\n",
    "-percentile\n",
    "-Quantile"
   ]
  },
  {
   "cell_type": "code",
   "execution_count": null,
   "id": "6cf1f9fa-167f-49ea-b525-c2face5e3bc4",
   "metadata": {},
   "outputs": [],
   "source": []
  }
 ],
 "metadata": {
  "kernelspec": {
   "display_name": "Python 3 (ipykernel)",
   "language": "python",
   "name": "python3"
  },
  "language_info": {
   "codemirror_mode": {
    "name": "ipython",
    "version": 3
   },
   "file_extension": ".py",
   "mimetype": "text/x-python",
   "name": "python",
   "nbconvert_exporter": "python",
   "pygments_lexer": "ipython3",
   "version": "3.12.7"
  }
 },
 "nbformat": 4,
 "nbformat_minor": 5
}
